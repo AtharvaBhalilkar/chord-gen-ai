{
 "cells": [
  {
   "cell_type": "code",
   "execution_count": 7,
   "metadata": {},
   "outputs": [],
   "source": [
    "import pandas as pd\n",
    "import numpy as np"
   ]
  },
  {
   "cell_type": "markdown",
   "metadata": {},
   "source": [
    "## Importing the data"
   ]
  },
  {
   "cell_type": "code",
   "execution_count": 10,
   "metadata": {},
   "outputs": [],
   "source": [
    "data_path = '../data/raw/chordonomicon.csvhqrs4e12tmp'"
   ]
  },
  {
   "cell_type": "code",
   "execution_count": 11,
   "metadata": {},
   "outputs": [
    {
     "name": "stderr",
     "output_type": "stream",
     "text": [
      "/var/folders/ln/8s8rnz7s3pv6jwy7khy_32yw0000gn/T/ipykernel_32475/606058143.py:1: DtypeWarning: Columns (2,3,5,6,7,8,9) have mixed types. Specify dtype option on import or set low_memory=False.\n",
      "  df = pd.read_csv(data_path)\n"
     ]
    }
   ],
   "source": [
    "df = pd.read_csv(data_path)"
   ]
  },
  {
   "cell_type": "code",
   "execution_count": 12,
   "metadata": {},
   "outputs": [
    {
     "data": {
      "text/html": [
       "<div>\n",
       "<style scoped>\n",
       "    .dataframe tbody tr th:only-of-type {\n",
       "        vertical-align: middle;\n",
       "    }\n",
       "\n",
       "    .dataframe tbody tr th {\n",
       "        vertical-align: top;\n",
       "    }\n",
       "\n",
       "    .dataframe thead th {\n",
       "        text-align: right;\n",
       "    }\n",
       "</style>\n",
       "<table border=\"1\" class=\"dataframe\">\n",
       "  <thead>\n",
       "    <tr style=\"text-align: right;\">\n",
       "      <th></th>\n",
       "      <th>id</th>\n",
       "      <th>chords</th>\n",
       "      <th>release_date</th>\n",
       "      <th>genres</th>\n",
       "      <th>decade</th>\n",
       "      <th>rock_genre</th>\n",
       "      <th>artist_id</th>\n",
       "      <th>main_genre</th>\n",
       "      <th>spotify_song_id</th>\n",
       "      <th>spotify_artist_id</th>\n",
       "    </tr>\n",
       "  </thead>\n",
       "  <tbody>\n",
       "    <tr>\n",
       "      <th>0</th>\n",
       "      <td>1</td>\n",
       "      <td>&lt;intro_1&gt; C &lt;verse_1&gt; F C E7 Amin C F C G7 C F...</td>\n",
       "      <td>NaN</td>\n",
       "      <td>'classic country pop'</td>\n",
       "      <td>NaN</td>\n",
       "      <td>NaN</td>\n",
       "      <td>artist_1</td>\n",
       "      <td>pop</td>\n",
       "      <td>NaN</td>\n",
       "      <td>4AIEGdwDzPELXYgM5JaEY5</td>\n",
       "    </tr>\n",
       "    <tr>\n",
       "      <th>1</th>\n",
       "      <td>2</td>\n",
       "      <td>&lt;intro_1&gt; E D A/Cs E D A/Cs &lt;verse_1&gt; E D A/Cs...</td>\n",
       "      <td>2003-01-01</td>\n",
       "      <td>'alternative metal' 'alternative rock' 'nu met...</td>\n",
       "      <td>2000.0</td>\n",
       "      <td>pop rock</td>\n",
       "      <td>artist_2</td>\n",
       "      <td>metal</td>\n",
       "      <td>2ffJZ2r8HxI5DHcmf3BO6c</td>\n",
       "      <td>694QW15WkebjcrWgQHzRYF</td>\n",
       "    </tr>\n",
       "    <tr>\n",
       "      <th>2</th>\n",
       "      <td>3</td>\n",
       "      <td>&lt;intro_1&gt; Csmin &lt;verse_1&gt; A Csmin A Csmin A Cs...</td>\n",
       "      <td>2003-01-01</td>\n",
       "      <td>'alternative metal' 'canadian rock' 'funk meta...</td>\n",
       "      <td>2000.0</td>\n",
       "      <td>canadian rock</td>\n",
       "      <td>artist_3</td>\n",
       "      <td>metal</td>\n",
       "      <td>5KiY8SZEnvCPyIEkFGRR3y</td>\n",
       "      <td>0niJkG4tKkne3zwr7I8n9n</td>\n",
       "    </tr>\n",
       "    <tr>\n",
       "      <th>3</th>\n",
       "      <td>4</td>\n",
       "      <td>&lt;intro_1&gt; D Dmaj7 D Dmaj7 &lt;verse_1&gt; Emin A D G...</td>\n",
       "      <td>2022-09-23</td>\n",
       "      <td>NaN</td>\n",
       "      <td>2020.0</td>\n",
       "      <td>NaN</td>\n",
       "      <td>artist_4</td>\n",
       "      <td>NaN</td>\n",
       "      <td>01TtAcUqyLCRBZq4ZZiQWS</td>\n",
       "      <td>17BfKBemmMGO5ZAK25wraW</td>\n",
       "    </tr>\n",
       "    <tr>\n",
       "      <th>4</th>\n",
       "      <td>5</td>\n",
       "      <td>&lt;intro_1&gt; C &lt;verse_1&gt; G C G C &lt;chorus_1&gt; F Dmi...</td>\n",
       "      <td>2023-02-10</td>\n",
       "      <td>'modern country pop'</td>\n",
       "      <td>2020.0</td>\n",
       "      <td>NaN</td>\n",
       "      <td>artist_5</td>\n",
       "      <td>pop</td>\n",
       "      <td>3zUecdrWC3IqrNSjhnoF3G</td>\n",
       "      <td>4GGfAshSkqoxpZdoaHm7ky</td>\n",
       "    </tr>\n",
       "  </tbody>\n",
       "</table>\n",
       "</div>"
      ],
      "text/plain": [
       "   id                                             chords release_date  \\\n",
       "0   1  <intro_1> C <verse_1> F C E7 Amin C F C G7 C F...          NaN   \n",
       "1   2  <intro_1> E D A/Cs E D A/Cs <verse_1> E D A/Cs...   2003-01-01   \n",
       "2   3  <intro_1> Csmin <verse_1> A Csmin A Csmin A Cs...   2003-01-01   \n",
       "3   4  <intro_1> D Dmaj7 D Dmaj7 <verse_1> Emin A D G...   2022-09-23   \n",
       "4   5  <intro_1> C <verse_1> G C G C <chorus_1> F Dmi...   2023-02-10   \n",
       "\n",
       "                                              genres  decade     rock_genre  \\\n",
       "0                              'classic country pop'     NaN            NaN   \n",
       "1  'alternative metal' 'alternative rock' 'nu met...  2000.0       pop rock   \n",
       "2  'alternative metal' 'canadian rock' 'funk meta...  2000.0  canadian rock   \n",
       "3                                                NaN  2020.0            NaN   \n",
       "4                               'modern country pop'  2020.0            NaN   \n",
       "\n",
       "  artist_id main_genre         spotify_song_id       spotify_artist_id  \n",
       "0  artist_1        pop                     NaN  4AIEGdwDzPELXYgM5JaEY5  \n",
       "1  artist_2      metal  2ffJZ2r8HxI5DHcmf3BO6c  694QW15WkebjcrWgQHzRYF  \n",
       "2  artist_3      metal  5KiY8SZEnvCPyIEkFGRR3y  0niJkG4tKkne3zwr7I8n9n  \n",
       "3  artist_4        NaN  01TtAcUqyLCRBZq4ZZiQWS  17BfKBemmMGO5ZAK25wraW  \n",
       "4  artist_5        pop  3zUecdrWC3IqrNSjhnoF3G  4GGfAshSkqoxpZdoaHm7ky  "
      ]
     },
     "execution_count": 12,
     "metadata": {},
     "output_type": "execute_result"
    }
   ],
   "source": [
    "df.head()"
   ]
  },
  {
   "cell_type": "code",
   "execution_count": 13,
   "metadata": {},
   "outputs": [
    {
     "data": {
      "text/plain": [
       "(679807, 10)"
      ]
     },
     "execution_count": 13,
     "metadata": {},
     "output_type": "execute_result"
    }
   ],
   "source": [
    "df.shape"
   ]
  },
  {
   "cell_type": "code",
   "execution_count": 15,
   "metadata": {},
   "outputs": [
    {
     "data": {
      "text/plain": [
       "Index(['id', 'chords', 'release_date', 'genres', 'decade', 'rock_genre',\n",
       "       'artist_id', 'main_genre', 'spotify_song_id', 'spotify_artist_id'],\n",
       "      dtype='object')"
      ]
     },
     "execution_count": 15,
     "metadata": {},
     "output_type": "execute_result"
    }
   ],
   "source": [
    "df.columns"
   ]
  },
  {
   "cell_type": "code",
   "execution_count": null,
   "metadata": {},
   "outputs": [
    {
     "name": "stdout",
     "output_type": "stream",
     "text": [
      "id: <class 'int'>    679807\n",
      "Name: id, dtype: int64\n",
      "chords: <class 'str'>    679807\n",
      "Name: chords, dtype: int64\n",
      "release_date: <class 'str'>      422181\n",
      "<class 'float'>    257626\n",
      "Name: release_date, dtype: int64\n",
      "genres: <class 'str'>      429753\n",
      "<class 'float'>    250054\n",
      "Name: genres, dtype: int64\n",
      "decade: <class 'float'>    679807\n",
      "Name: decade, dtype: int64\n",
      "rock_genre: <class 'float'>    534589\n",
      "<class 'str'>      145218\n",
      "Name: rock_genre, dtype: int64\n",
      "artist_id: <class 'str'>      510986\n",
      "<class 'float'>    168821\n",
      "Name: artist_id, dtype: int64\n",
      "main_genre: <class 'str'>      352111\n",
      "<class 'float'>    327696\n",
      "Name: main_genre, dtype: int64\n",
      "spotify_song_id: <class 'str'>      440284\n",
      "<class 'float'>    239523\n",
      "Name: spotify_song_id, dtype: int64\n",
      "spotify_artist_id: <class 'str'>      510986\n",
      "<class 'float'>    168821\n",
      "Name: spotify_artist_id, dtype: int64\n"
     ]
    }
   ],
   "source": [
    "for col in df.columns:\n",
    "    print(f\"{col}: {df[col].apply(type).value_counts()}\")"
   ]
  },
  {
   "cell_type": "code",
   "execution_count": null,
   "metadata": {},
   "outputs": [],
   "source": []
  }
 ],
 "metadata": {
  "kernelspec": {
   "display_name": "Python 3",
   "language": "python",
   "name": "python3"
  },
  "language_info": {
   "codemirror_mode": {
    "name": "ipython",
    "version": 3
   },
   "file_extension": ".py",
   "mimetype": "text/x-python",
   "name": "python",
   "nbconvert_exporter": "python",
   "pygments_lexer": "ipython3",
   "version": "3.10.16"
  }
 },
 "nbformat": 4,
 "nbformat_minor": 2
}
